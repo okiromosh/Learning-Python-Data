{
  "nbformat": 4,
  "nbformat_minor": 0,
  "metadata": {
    "colab": {
      "provenance": [],
      "authorship_tag": "ABX9TyP1sxUnEM7HT5pRJjBF5z8c",
      "include_colab_link": true
    },
    "kernelspec": {
      "name": "python3",
      "display_name": "Python 3"
    },
    "language_info": {
      "name": "python"
    }
  },
  "cells": [
    {
      "cell_type": "markdown",
      "metadata": {
        "id": "view-in-github",
        "colab_type": "text"
      },
      "source": [
        "<a href=\"https://colab.research.google.com/github/okiromosh/Learning-Python-Data/blob/main/Python_Data_01.ipynb\" target=\"_parent\"><img src=\"https://colab.research.google.com/assets/colab-badge.svg\" alt=\"Open In Colab\"/></a>"
      ]
    },
    {
      "cell_type": "code",
      "source": [
        "2+3"
      ],
      "metadata": {
        "colab": {
          "base_uri": "https://localhost:8080/"
        },
        "id": "NEOSrrx16b_o",
        "outputId": "5b2a56be-8f46-4394-a21c-745fa7615df0"
      },
      "execution_count": null,
      "outputs": [
        {
          "output_type": "execute_result",
          "data": {
            "text/plain": [
              "5"
            ]
          },
          "metadata": {},
          "execution_count": 1
        }
      ]
    },
    {
      "cell_type": "markdown",
      "source": [
        "#Cleaning Data"
      ],
      "metadata": {
        "id": "CRN0TGI7qotO"
      }
    },
    {
      "cell_type": "markdown",
      "source": [
        "Given data: In given data, it defines job_skills and job_date as strings instead of list and datetime"
      ],
      "metadata": {
        "id": "ORJW3rFyqvKb"
      }
    },
    {
      "cell_type": "code",
      "source": [
        "data_science_jobs = [\n",
        "    {'job_title':'Data Scientist',\n",
        "     'job_skills':\"['Python','SQL','Machine Learning']\",\n",
        "     'job_date': '2023-05-12'},\n",
        "    {'job_title':'Data Enginner',\n",
        "     'job_skills':\"['AWS','Python','Tensorflow']\",\n",
        "     'job_date': '2023-05-18'},\n",
        "    {'job_title':'Data Analyst',\n",
        "     'job_skills':\"['Python','Data Analysis','SQL',]\",\n",
        "     'job_date': '2023-05-06'}\n",
        "]"
      ],
      "metadata": {
        "id": "UrjOX2DKnrIS"
      },
      "execution_count": 1,
      "outputs": []
    },
    {
      "cell_type": "markdown",
      "source": [
        "**Cleaning job_date first**"
      ],
      "metadata": {
        "id": "noCsi8DQrCtC"
      }
    },
    {
      "cell_type": "code",
      "source": [
        "from datetime import datetime"
      ],
      "metadata": {
        "id": "6R_U4iFgpcmw"
      },
      "execution_count": 2,
      "outputs": []
    },
    {
      "cell_type": "code",
      "source": [
        "datetime.now()"
      ],
      "metadata": {
        "colab": {
          "base_uri": "https://localhost:8080/"
        },
        "id": "KOy0FAsxpiWb",
        "outputId": "cd5044ef-9d94-49f5-f7f8-0c946c39d741"
      },
      "execution_count": 5,
      "outputs": [
        {
          "output_type": "execute_result",
          "data": {
            "text/plain": [
              "datetime.datetime(2025, 4, 30, 12, 23, 21, 141748)"
            ]
          },
          "metadata": {},
          "execution_count": 5
        }
      ]
    },
    {
      "cell_type": "code",
      "source": [
        "data_science_jobs[0]"
      ],
      "metadata": {
        "colab": {
          "base_uri": "https://localhost:8080/"
        },
        "id": "bm0shEaEpmzm",
        "outputId": "cb61db83-3475-42da-ce9e-8cf091a96a3b"
      },
      "execution_count": 6,
      "outputs": [
        {
          "output_type": "execute_result",
          "data": {
            "text/plain": [
              "{'job_title': 'Data Scientist',\n",
              " 'job_skills': \"['Python','SQL','Machine Learning']\",\n",
              " 'job_date': '2023-05-12'}"
            ]
          },
          "metadata": {},
          "execution_count": 6
        }
      ]
    },
    {
      "cell_type": "code",
      "source": [
        "test_date = data_science_jobs[0]['job_date']\n",
        "test_date"
      ],
      "metadata": {
        "colab": {
          "base_uri": "https://localhost:8080/",
          "height": 35
        },
        "id": "Pt9m0HAfqKJh",
        "outputId": "648595f5-8702-4d7d-f017-a5fec8ed0514"
      },
      "execution_count": 12,
      "outputs": [
        {
          "output_type": "execute_result",
          "data": {
            "text/plain": [
              "'2023-05-12'"
            ],
            "application/vnd.google.colaboratory.intrinsic+json": {
              "type": "string"
            }
          },
          "metadata": {},
          "execution_count": 12
        }
      ]
    },
    {
      "cell_type": "code",
      "source": [
        "type(data_science_jobs[0]['job_date'])"
      ],
      "metadata": {
        "colab": {
          "base_uri": "https://localhost:8080/"
        },
        "id": "E9qVOKQXqO6l",
        "outputId": "e6e7f908-fdde-4c1f-bd90-9cd0310f7300"
      },
      "execution_count": 10,
      "outputs": [
        {
          "output_type": "execute_result",
          "data": {
            "text/plain": [
              "str"
            ]
          },
          "metadata": {},
          "execution_count": 10
        }
      ]
    },
    {
      "cell_type": "markdown",
      "source": [
        "**Using strptime (string parse time) to extract form string a datetime format**"
      ],
      "metadata": {
        "id": "cCPtoKSQrW-6"
      }
    },
    {
      "cell_type": "code",
      "source": [
        "print(datetime.strptime(test_date,'%Y-%m-%d'))"
      ],
      "metadata": {
        "colab": {
          "base_uri": "https://localhost:8080/"
        },
        "id": "EmXylunUqeOS",
        "outputId": "d9987772-6586-442f-b3f6-6a3d808777d4"
      },
      "execution_count": 13,
      "outputs": [
        {
          "output_type": "stream",
          "name": "stdout",
          "text": [
            "2023-05-12 00:00:00\n"
          ]
        }
      ]
    },
    {
      "cell_type": "markdown",
      "source": [
        "**Replacing in the list**"
      ],
      "metadata": {
        "id": "2NZml-XcvP0m"
      }
    },
    {
      "cell_type": "code",
      "source": [
        "for job in data_science_jobs:\n",
        "  job['job_date'] = datetime.strptime(job['job_date'], '%Y-%m-%d')"
      ],
      "metadata": {
        "id": "KdkJtfFmvWBb"
      },
      "execution_count": 14,
      "outputs": []
    },
    {
      "cell_type": "code",
      "source": [
        "data_science_jobs"
      ],
      "metadata": {
        "colab": {
          "base_uri": "https://localhost:8080/"
        },
        "id": "71O1zp37xX1_",
        "outputId": "6ea39cd0-ecf0-4721-d7ec-d2047d957409"
      },
      "execution_count": 15,
      "outputs": [
        {
          "output_type": "execute_result",
          "data": {
            "text/plain": [
              "[{'job_title': 'Data Scientist',\n",
              "  'job_skills': \"['Python','SQL','Machine Learning']\",\n",
              "  'job_date': datetime.datetime(2023, 5, 12, 0, 0)},\n",
              " {'job_title': 'Data Enginner',\n",
              "  'job_skills': \"['AWS','Python','Tensorflow']\",\n",
              "  'job_date': datetime.datetime(2023, 5, 18, 0, 0)},\n",
              " {'job_title': 'Data Analyst',\n",
              "  'job_skills': \"['Python','Data Analysis','SQL',]\",\n",
              "  'job_date': datetime.datetime(2023, 5, 6, 0, 0)}]"
            ]
          },
          "metadata": {},
          "execution_count": 15
        }
      ]
    },
    {
      "cell_type": "markdown",
      "source": [
        "**Cleaning job_skills**\n",
        "\n",
        "Using ast (Abstract Syntax Trees)"
      ],
      "metadata": {
        "id": "VuAH0_Ddxs90"
      }
    },
    {
      "cell_type": "code",
      "source": [
        "import ast"
      ],
      "metadata": {
        "id": "MH5OCRWtxzNJ"
      },
      "execution_count": 16,
      "outputs": []
    },
    {
      "cell_type": "code",
      "source": [
        "for job in data_science_jobs:\n",
        "  job['job_skills'] = ast.literal_eval(job['job_skills'])"
      ],
      "metadata": {
        "id": "BULIBSpryXJY"
      },
      "execution_count": 17,
      "outputs": []
    },
    {
      "cell_type": "code",
      "source": [
        "data_science_jobs"
      ],
      "metadata": {
        "colab": {
          "base_uri": "https://localhost:8080/"
        },
        "id": "zQtQT90ly8HR",
        "outputId": "752a4efe-adda-413b-f55b-8373fe3fc91a"
      },
      "execution_count": 18,
      "outputs": [
        {
          "output_type": "execute_result",
          "data": {
            "text/plain": [
              "[{'job_title': 'Data Scientist',\n",
              "  'job_skills': ['Python', 'SQL', 'Machine Learning'],\n",
              "  'job_date': datetime.datetime(2023, 5, 12, 0, 0)},\n",
              " {'job_title': 'Data Enginner',\n",
              "  'job_skills': ['AWS', 'Python', 'Tensorflow'],\n",
              "  'job_date': datetime.datetime(2023, 5, 18, 0, 0)},\n",
              " {'job_title': 'Data Analyst',\n",
              "  'job_skills': ['Python', 'Data Analysis', 'SQL'],\n",
              "  'job_date': datetime.datetime(2023, 5, 6, 0, 0)}]"
            ]
          },
          "metadata": {},
          "execution_count": 18
        }
      ]
    }
  ]
}