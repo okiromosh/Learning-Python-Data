{
 "cells": [
  {
   "cell_type": "markdown",
   "id": "572678f1",
   "metadata": {},
   "source": [
    "# **Pandas: Accessing Data**"
   ]
  },
  {
   "cell_type": "code",
   "execution_count": 2,
   "id": "78a4d3f7",
   "metadata": {},
   "outputs": [],
   "source": [
    "import pandas as pd\n",
    "from datasets import load_dataset\n",
    "import matplotlib.pyplot as plt\n",
    "\n",
    "\n",
    "# Loadind Data\n",
    "\n"
   ]
  },
  {
   "cell_type": "code",
   "execution_count": 3,
   "id": "c09b80d8",
   "metadata": {},
   "outputs": [
    {
     "name": "stderr",
     "output_type": "stream",
     "text": [
      "Traceback (most recent call last):\n",
      "Traceback (most recent call last):\n",
      "  File \"/home/moses/miniconda3/envs/python_data/lib/python3.11/site-packages/IPython/core/completer.py\", line 3410, in _complete\n",
      "    result = matcher(context)\n",
      "             ^^^^^^^^^^^^^^^^\n",
      "  File \"/home/moses/miniconda3/envs/python_data/lib/python3.11/site-packages/IPython/core/completer.py\", line 2169, in magic_matcher\n",
      "    global_matches = self.global_matches(bare_text)\n",
      "                     ^^^^^^^^^^^^^^^^^^^^^^^^^^^^^^\n",
      "  File \"/home/moses/miniconda3/envs/python_data/lib/python3.11/site-packages/IPython/core/completer.py\", line 1103, in global_matches\n",
      "    for word in lst:\n",
      "RuntimeError: dictionary changed size during iteration\n",
      "  File \"/home/moses/miniconda3/envs/python_data/lib/python3.11/site-packages/IPython/core/completer.py\", line 3410, in _complete\n",
      "    result = matcher(context)\n",
      "             ^^^^^^^^^^^^^^^^\n",
      "  File \"/home/moses/miniconda3/envs/python_data/lib/python3.11/site-packages/IPython/core/completer.py\", line 2169, in magic_matcher\n",
      "    global_matches = self.global_matches(bare_text)\n",
      "                     ^^^^^^^^^^^^^^^^^^^^^^^^^^^^^^\n",
      "  File \"/home/moses/miniconda3/envs/python_data/lib/python3.11/site-packages/IPython/core/completer.py\", line 1103, in global_matches\n",
      "    for word in lst:\n",
      "RuntimeError: dictionary changed size during iteration\n"
     ]
    },
    {
     "name": "stdout",
     "output_type": "stream",
     "text": [
      "hello\n"
     ]
    }
   ],
   "source": [
    "print('hello')"
   ]
  },
  {
   "cell_type": "code",
   "execution_count": null,
   "id": "a4e36477",
   "metadata": {},
   "outputs": [],
   "source": []
  }
 ],
 "metadata": {
  "kernelspec": {
   "display_name": "python_data",
   "language": "python",
   "name": "python3"
  },
  "language_info": {
   "codemirror_mode": {
    "name": "ipython",
    "version": 3
   },
   "file_extension": ".py",
   "mimetype": "text/x-python",
   "name": "python",
   "nbconvert_exporter": "python",
   "pygments_lexer": "ipython3",
   "version": "3.11.11"
  }
 },
 "nbformat": 4,
 "nbformat_minor": 5
}
