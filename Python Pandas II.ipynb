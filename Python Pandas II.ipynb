{
 "cells": [
  {
   "cell_type": "markdown",
   "id": "572678f1",
   "metadata": {},
   "source": [
    "# **Pandas: Accessing Data**"
   ]
  },
  {
   "cell_type": "code",
   "execution_count": 7,
   "id": "78a4d3f7",
   "metadata": {},
   "outputs": [],
   "source": [
    "import pandas as pd\n",
    "from datasets import load_dataset\n",
    "import matplotlib.pyplot as plt"
   ]
  },
  {
   "cell_type": "markdown",
   "id": "5ec0d27a",
   "metadata": {},
   "source": [
    "##### Loading Data\n"
   ]
  },
  {
   "cell_type": "code",
   "execution_count": 8,
   "id": "580ddcd8",
   "metadata": {},
   "outputs": [
    {
     "name": "stderr",
     "output_type": "stream",
     "text": [
      "Generating train split: 100%|██████████| 785741/785741 [00:16<00:00, 46827.99 examples/s]\n"
     ]
    }
   ],
   "source": [
    "dataset = load_dataset('lukebarousse/data_jobs')"
   ]
  },
  {
   "cell_type": "code",
   "execution_count": 9,
   "id": "77b5c003",
   "metadata": {},
   "outputs": [],
   "source": [
    "df = dataset['train'].to_pandas()\n"
   ]
  },
  {
   "cell_type": "markdown",
   "id": "4380d234",
   "metadata": {},
   "source": [
    "##### Cleaning the datetime"
   ]
  },
  {
   "cell_type": "code",
   "execution_count": 12,
   "id": "c09b80d8",
   "metadata": {},
   "outputs": [],
   "source": [
    "df['job_posted_date'] = pd.to_datetime(df['job_posted_date'])"
   ]
  },
  {
   "cell_type": "code",
   "execution_count": null,
   "id": "a8fa1491",
   "metadata": {},
   "outputs": [],
   "source": []
  }
 ],
 "metadata": {
  "kernelspec": {
   "display_name": "python_data",
   "language": "python",
   "name": "python3"
  },
  "language_info": {
   "codemirror_mode": {
    "name": "ipython",
    "version": 3
   },
   "file_extension": ".py",
   "mimetype": "text/x-python",
   "name": "python",
   "nbconvert_exporter": "python",
   "pygments_lexer": "ipython3",
   "version": "3.11.11"
  }
 },
 "nbformat": 4,
 "nbformat_minor": 5
}
