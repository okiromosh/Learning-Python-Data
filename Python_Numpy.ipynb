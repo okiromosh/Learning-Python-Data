{
  "nbformat": 4,
  "nbformat_minor": 0,
  "metadata": {
    "colab": {
      "provenance": [],
      "authorship_tag": "ABX9TyPFO3r0S8IEvm2J320EOfzq",
      "include_colab_link": true
    },
    "kernelspec": {
      "name": "python3",
      "display_name": "Python 3"
    },
    "language_info": {
      "name": "python"
    }
  },
  "cells": [
    {
      "cell_type": "markdown",
      "metadata": {
        "id": "view-in-github",
        "colab_type": "text"
      },
      "source": [
        "<a href=\"https://colab.research.google.com/github/okiromosh/Learning-Python-Data/blob/main/Python_Numpy.ipynb\" target=\"_parent\"><img src=\"https://colab.research.google.com/assets/colab-badge.svg\" alt=\"Open In Colab\"/></a>"
      ]
    },
    {
      "cell_type": "code",
      "source": [
        "# creating a list of 1,000,000 salaries ranging from 50,000 to 150,000\n",
        "\n",
        "import random\n",
        "\n",
        "random.randint(50_000, 150_000)\n",
        "salary_list = [random.randint(50_000, 150_000) for _ in range(1_000_000)]\n"
      ],
      "metadata": {
        "id": "swdHTCF1cU2M"
      },
      "execution_count": 10,
      "outputs": []
    },
    {
      "cell_type": "markdown",
      "source": [
        "**Checking the speed between regular libraries and numpy**"
      ],
      "metadata": {
        "id": "DdBhaQApf0HL"
      }
    },
    {
      "cell_type": "code",
      "source": [
        "import statistics"
      ],
      "metadata": {
        "id": "Bd-gn0hYdyjK"
      },
      "execution_count": 11,
      "outputs": []
    },
    {
      "cell_type": "code",
      "source": [
        "%%timeit\n",
        "statistics.mean(salary_list)"
      ],
      "metadata": {
        "colab": {
          "base_uri": "https://localhost:8080/"
        },
        "id": "gC5A6vlpd3TH",
        "outputId": "4d82cb32-233b-478a-f9d9-539b3d694102"
      },
      "execution_count": 12,
      "outputs": [
        {
          "output_type": "stream",
          "name": "stdout",
          "text": [
            "237 ms ± 12.8 ms per loop (mean ± std. dev. of 7 runs, 1 loop each)\n"
          ]
        }
      ]
    },
    {
      "cell_type": "code",
      "source": [
        "import numpy as np"
      ],
      "metadata": {
        "id": "oS9o8KVwd_S6"
      },
      "execution_count": 14,
      "outputs": []
    },
    {
      "cell_type": "code",
      "source": [
        "%%timeit\n",
        "np.mean(salary_list)"
      ],
      "metadata": {
        "colab": {
          "base_uri": "https://localhost:8080/"
        },
        "id": "lH3jDrX-eODZ",
        "outputId": "0a34afdf-5fc3-4411-ac57-5edca50d7a86"
      },
      "execution_count": 15,
      "outputs": [
        {
          "output_type": "stream",
          "name": "stdout",
          "text": [
            "54.2 ms ± 856 µs per loop (mean ± std. dev. of 7 runs, 10 loops each)\n"
          ]
        }
      ]
    },
    {
      "cell_type": "code",
      "source": [],
      "metadata": {
        "id": "NEYcTX0heTK0"
      },
      "execution_count": null,
      "outputs": []
    }
  ]
}