{
  "nbformat": 4,
  "nbformat_minor": 0,
  "metadata": {
    "colab": {
      "provenance": [],
      "authorship_tag": "ABX9TyOQqfjPQ8MaorKLlnlScn73"
    },
    "kernelspec": {
      "name": "python3",
      "display_name": "Python 3"
    },
    "language_info": {
      "name": "python"
    }
  },
  "cells": [
    {
      "cell_type": "code",
      "source": [
        "# creating a list of 1,000,000 salaries ranging from 50,000 to 150,000\n",
        "\n",
        "import random\n",
        "\n",
        "random.randint(50_000, 150_000)\n",
        "salary_list = [random.randint(50_000, 150_000) for _ in range(1_000_000)]\n"
      ],
      "metadata": {
        "id": "swdHTCF1cU2M"
      },
      "execution_count": 10,
      "outputs": []
    },
    {
      "cell_type": "markdown",
      "source": [
        "**Checking the speed between regular libraries and numpy**"
      ],
      "metadata": {
        "id": "DdBhaQApf0HL"
      }
    },
    {
      "cell_type": "code",
      "source": [
        "import statistics"
      ],
      "metadata": {
        "id": "Bd-gn0hYdyjK"
      },
      "execution_count": 11,
      "outputs": []
    },
    {
      "cell_type": "code",
      "source": [
        "%%timeit\n",
        "statistics.mean(salary_list)"
      ],
      "metadata": {
        "colab": {
          "base_uri": "https://localhost:8080/"
        },
        "id": "gC5A6vlpd3TH",
        "outputId": "4d82cb32-233b-478a-f9d9-539b3d694102"
      },
      "execution_count": 12,
      "outputs": [
        {
          "output_type": "stream",
          "name": "stdout",
          "text": [
            "237 ms ± 12.8 ms per loop (mean ± std. dev. of 7 runs, 1 loop each)\n"
          ]
        }
      ]
    },
    {
      "cell_type": "code",
      "source": [
        "import numpy as np"
      ],
      "metadata": {
        "id": "oS9o8KVwd_S6"
      },
      "execution_count": 14,
      "outputs": []
    },
    {
      "cell_type": "code",
      "source": [
        "%%timeit\n",
        "np.mean(salary_list)"
      ],
      "metadata": {
        "colab": {
          "base_uri": "https://localhost:8080/"
        },
        "id": "lH3jDrX-eODZ",
        "outputId": "0a34afdf-5fc3-4411-ac57-5edca50d7a86"
      },
      "execution_count": 15,
      "outputs": [
        {
          "output_type": "stream",
          "name": "stdout",
          "text": [
            "54.2 ms ± 856 µs per loop (mean ± std. dev. of 7 runs, 10 loops each)\n"
          ]
        }
      ]
    },
    {
      "cell_type": "code",
      "source": [],
      "metadata": {
        "id": "NEYcTX0heTK0"
      },
      "execution_count": null,
      "outputs": []
    },
    {
      "cell_type": "markdown",
      "source": [
        "# Using Numpy"
      ],
      "metadata": {
        "id": "WVqthzOjgZcb"
      }
    },
    {
      "cell_type": "code",
      "source": [
        "import numpy as np\n"
      ],
      "metadata": {
        "id": "ES-SkE_FgeGx"
      },
      "execution_count": 16,
      "outputs": []
    },
    {
      "cell_type": "markdown",
      "source": [
        "Working with numpy array"
      ],
      "metadata": {
        "id": "F2ZHkw4ugrhI"
      }
    },
    {
      "cell_type": "code",
      "source": [
        "my_array = np.array([1,2,3,4])"
      ],
      "metadata": {
        "id": "yR-OnA1fgwQ2"
      },
      "execution_count": 17,
      "outputs": []
    },
    {
      "cell_type": "code",
      "source": [
        "my_array.mean()"
      ],
      "metadata": {
        "colab": {
          "base_uri": "https://localhost:8080/"
        },
        "id": "YB9mqEeThBiE",
        "outputId": "29e3b8d4-bdb8-495d-e334-2ecd8554e393"
      },
      "execution_count": 20,
      "outputs": [
        {
          "output_type": "execute_result",
          "data": {
            "text/plain": [
              "np.float64(2.5)"
            ]
          },
          "metadata": {},
          "execution_count": 20
        }
      ]
    },
    {
      "cell_type": "code",
      "source": [
        "# Job Titles\n",
        "job_titles = np.array(['Data Analyst','Data Scientist','Data Enginner','Machine Learning Enginer'])\n",
        "# Base Salaries\n",
        "job_salaries = np.array([60_000, 80_000, 75_000, 90_000])\n",
        "#Bonus Rates\n",
        "bonus_rates = np.array([.05, .1, .08, .12])\n"
      ],
      "metadata": {
        "id": "6fK80eJ7hFaF"
      },
      "execution_count": 21,
      "outputs": []
    },
    {
      "cell_type": "code",
      "source": [
        "total_salaries = job_salaries *(1 + bonus_rates)\n",
        "total_salaries"
      ],
      "metadata": {
        "colab": {
          "base_uri": "https://localhost:8080/"
        },
        "id": "cTYu3mbroIk1",
        "outputId": "e50a8434-75a8-401b-8b2c-962d7ef5e88c"
      },
      "execution_count": 22,
      "outputs": [
        {
          "output_type": "execute_result",
          "data": {
            "text/plain": [
              "array([ 63000.,  88000.,  81000., 100800.])"
            ]
          },
          "metadata": {},
          "execution_count": 22
        }
      ]
    },
    {
      "cell_type": "code",
      "source": [],
      "metadata": {
        "id": "0bSZsI_YoUBS"
      },
      "execution_count": null,
      "outputs": []
    }
  ]
}