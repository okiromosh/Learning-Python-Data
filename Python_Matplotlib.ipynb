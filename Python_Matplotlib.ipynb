{
  "nbformat": 4,
  "nbformat_minor": 0,
  "metadata": {
    "colab": {
      "provenance": [],
      "authorship_tag": "ABX9TyNyd7/9GuK9v4KtHJ3hHokA"
    },
    "kernelspec": {
      "name": "python3",
      "display_name": "Python 3"
    },
    "language_info": {
      "name": "python"
    }
  },
  "cells": [
    {
      "cell_type": "markdown",
      "source": [
        "# **Visulaizing Data using matplotlib**"
      ],
      "metadata": {
        "id": "g2Srr42fs9JH"
      }
    },
    {
      "cell_type": "code",
      "execution_count": null,
      "metadata": {
        "id": "xY0OGMY0sXd7"
      },
      "outputs": [],
      "source": [
        "!pip install datasets"
      ]
    },
    {
      "cell_type": "code",
      "source": [
        "import pandas as pd\n",
        "from datasets import load_dataset\n",
        "\n",
        "dataset = load_dataset('lukebarousse/data_jobs')\n",
        "df = dataset['train'].to_pandas()\n",
        "\n",
        "\n",
        "df['job_posted_date'] = pd.to_datetime(df['job_posted_date'])"
      ],
      "metadata": {
        "id": "4bE_8Xi3zEp_"
      },
      "execution_count": 7,
      "outputs": []
    },
    {
      "cell_type": "markdown",
      "source": [
        "importing matplotlib"
      ],
      "metadata": {
        "id": "vBNGdxIv1ZQV"
      }
    },
    {
      "cell_type": "code",
      "source": [
        "import matplotlib.pyplot as plt\n"
      ],
      "metadata": {
        "id": "zc5sALAB0VJa"
      },
      "execution_count": 10,
      "outputs": []
    },
    {
      "cell_type": "markdown",
      "source": [
        "**Plotting Data**"
      ],
      "metadata": {
        "id": "VuBSI-CS8Hyt"
      }
    },
    {
      "cell_type": "markdown",
      "source": [
        "Plotting job post dates"
      ],
      "metadata": {
        "id": "L-upsIoz9ayc"
      }
    },
    {
      "cell_type": "code",
      "source": [
        "#df.job_posted_date.head()\n",
        "date_counts = df.job_posted_date.value_counts()\n",
        "date_counts = date_counts.sort_index()"
      ],
      "metadata": {
        "id": "c038nbeR8uYg"
      },
      "execution_count": 16,
      "outputs": []
    },
    {
      "cell_type": "code",
      "source": [
        "date_counts"
      ],
      "metadata": {
        "id": "M5JbLTp89P06"
      },
      "execution_count": null,
      "outputs": []
    },
    {
      "cell_type": "code",
      "source": [
        "plt.plot(date_counts.index, date_counts)"
      ],
      "metadata": {
        "colab": {
          "base_uri": "https://localhost:8080/",
          "height": 447
        },
        "id": "6-q32Erl-pu2",
        "outputId": "e56dc57f-ad54-48ee-9548-d5949b2d9d16"
      },
      "execution_count": 17,
      "outputs": [
        {
          "output_type": "execute_result",
          "data": {
            "text/plain": [
              "[<matplotlib.lines.Line2D at 0x7c2e8f43b890>]"
            ]
          },
          "metadata": {},
          "execution_count": 17
        },
        {
          "output_type": "display_data",
          "data": {
            "text/plain": [
              "<Figure size 640x480 with 1 Axes>"
            ],
            "image/png": "[encoded data removed]"
          },
          "metadata": {}
        }
      ]
    }
  ]
}