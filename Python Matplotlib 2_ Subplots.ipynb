{
 "cells": [
  {
   "cell_type": "code",
   "execution_count": 3,
   "id": "6a3f9459",
   "metadata": {},
   "outputs": [
    {
     "name": "stdout",
     "output_type": "stream",
     "text": [
      "usage: conda init [-h] [--all] [--user] [--no-user] [--system] [--reverse]\n",
      "                  [--json] [--console CONSOLE] [-v] [-q] [-d]\n",
      "                  [SHELLS ...]\n",
      "conda init: error: argument SHELLS: invalid choice: 'conda' (choose from bash, fish, tcsh, xonsh, zsh, powershell)\n"
     ]
    }
   ],
   "source": [
    "! conda init conda activate python_data\n"
   ]
  },
  {
   "cell_type": "code",
   "execution_count": null,
   "id": "edcfafa6",
   "metadata": {},
   "outputs": [],
   "source": []
  }
 ],
 "metadata": {
  "kernelspec": {
   "display_name": "python_data",
   "language": "python",
   "name": "python3"
  },
  "language_info": {
   "codemirror_mode": {
    "name": "ipython",
    "version": 3
   },
   "file_extension": ".py",
   "mimetype": "text/x-python",
   "name": "python",
   "nbconvert_exporter": "python",
   "pygments_lexer": "ipython3",
   "version": "3.11.11"
  }
 },
 "nbformat": 4,
 "nbformat_minor": 5
}
