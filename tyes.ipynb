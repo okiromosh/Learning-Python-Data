{
  "nbformat": 4,
  "nbformat_minor": 0,
  "metadata": {
    "colab": {
      "provenance": [],
      "authorship_tag": "ABX9TyPKCXf/h7dHwkNepKDCvH2w"
    },
    "kernelspec": {
      "name": "python3",
      "display_name": "Python 3"
    },
    "language_info": {
      "name": "python"
    }
  },
  "cells": [
    {
      "cell_type": "code",
      "source": [
        "import requests\n",
        "from bs4 import BeautifulSoup\n",
        "import pandas as pd\n",
        "import time"
      ],
      "metadata": {
        "id": "ZwWFdGob8-gQ"
      },
      "execution_count": 37,
      "outputs": []
    },
    {
      "cell_type": "code",
      "source": [
        "url = ('https://www.dunlopaircrafttyres.co.uk/tyres/?search=5&type=size&page=1')\n",
        "response = requests.get(url)\n",
        "response"
      ],
      "metadata": {
        "colab": {
          "base_uri": "https://localhost:8080/"
        },
        "id": "NxZpfDoOBg28",
        "outputId": "451a6696-ea86-4ea9-a33f-3c0dea42a758"
      },
      "execution_count": 39,
      "outputs": [
        {
          "output_type": "execute_result",
          "data": {
            "text/plain": [
              "<Response [200]>"
            ]
          },
          "metadata": {},
          "execution_count": 39
        }
      ]
    },
    {
      "cell_type": "code",
      "source": [
        "soup = BeautifulSoup(response.text, 'html.parser')\n",
        "soup"
      ],
      "metadata": {
        "id": "jSc1RDktB0is"
      },
      "execution_count": null,
      "outputs": []
    },
    {
      "cell_type": "code",
      "source": [
        "data = []\n",
        "current_page = 1\n",
        "proceed = True"
      ],
      "metadata": {
        "id": "h_TMPKJd9HPg"
      },
      "execution_count": null,
      "outputs": []
    },
    {
      "cell_type": "code",
      "source": [
        "while proceed:\n",
        "  url = f''\n",
        "  print(f'Currently fetching page {current_page}')\n",
        "  response = requests.get(url)\n",
        "\n",
        "  # checking if website is available\n",
        "  if response.status_code != 200:\n",
        "    print(f'Request failed on page {current_page}')\n",
        "    break\n",
        "\n",
        "  soup = BeautifulSoup(response.text, 'html.parser')\n",
        "\n",
        "  if soup.find('div' class_='no-results active'):\n",
        "    print('No more results')\n",
        "    break\n",
        "  '''\n",
        "  We are using the selector method, to choose the css value in the page is\n",
        "  <div class=\"part-list\"> as the main table\n",
        "  <div class=\"row\" data-url=\"\"> as row data.\n",
        "  Using the selector methods enables to use css formating ie <div.class> intsead of <div class>\n",
        "  '''\n",
        "  # Getting whole row data from soup\n",
        "  rows_data = soup.select('div.part-list div.row[data-url]')\n",
        "  # Getting specific cell  from rows_data\n",
        "  cells_data = rows_data.select('div.clickable.cell')\n",
        "  # Getting the data in each cell\n",
        "  values = {} # Dic for final data\n",
        "  for cell in cells_data:\n",
        "    label = cell.find('span', class_='label')\n",
        "    value = cell.find('span', class_='value')\n",
        "    if label and value:\n",
        "      key = label.text.replace(':','').strip()\n",
        "      val = value.text.strip()\n",
        "      values[key] = val # Appending to values dict\n",
        "\n",
        "      data.append(\n",
        "          {\n",
        "              'Part No':values.get('Part No', ''),\n",
        "              'Size':values.get('Size', ''),\n",
        "              'Aircraft':values.get('Aircraft',''),\n",
        "              'Position':values.get('Position','')\n",
        "\n",
        "          }\n",
        "      )\n",
        "\n",
        "  current_page += 1\n",
        "  time.sleep(2.0)\n",
        "\n",
        "\n",
        "\n",
        "\n",
        "\n"
      ],
      "metadata": {
        "id": "59zfStDu92BX"
      },
      "execution_count": null,
      "outputs": []
    },
    {
      "cell_type": "code",
      "source": [
        "df = pd.DataFrame(data)\n",
        "df.to_csv('Scraped_Data.csv', index=False)\n",
        "print(f'Done!. Data Saved')"
      ],
      "metadata": {
        "id": "yD4tkiYj91xT"
      },
      "execution_count": null,
      "outputs": []
    },
    {
      "cell_type": "code",
      "source": [],
      "metadata": {
        "id": "lkgT1QD0NXW1"
      },
      "execution_count": null,
      "outputs": []
    }
  ]
}