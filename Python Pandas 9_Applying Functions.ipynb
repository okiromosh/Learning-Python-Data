{
 "cells": [
  {
   "cell_type": "code",
   "execution_count": 2,
   "id": "6bb07ff4",
   "metadata": {},
   "outputs": [],
   "source": [
    "import pandas as pd\n",
    "from datasets import load_dataset\n",
    "import matplotlib.pyplot as plt\n"
   ]
  },
  {
   "cell_type": "code",
   "execution_count": 3,
   "id": "3347e654",
   "metadata": {},
   "outputs": [],
   "source": [
    "dataset = load_dataset('lukebarousse/data_jobs')\n",
    "df = dataset['train'].to_pandas()"
   ]
  },
  {
   "cell_type": "code",
   "execution_count": null,
   "id": "fc0591d3",
   "metadata": {},
   "outputs": [],
   "source": [
    "df['job_posted_date'] = pd.to_datetime(df['job_posted_date'])\n",
    "# df['job_skills'] = df['job_skills'].apply(lambda skill_list: ast.literal_eval(skill_list) if pd.notna(skill_list) else skill_list)"
   ]
  },
  {
   "cell_type": "code",
   "execution_count": 7,
   "id": "016efe8f",
   "metadata": {},
   "outputs": [
    {
     "data": {
      "text/plain": [
       "28        109500.0\n",
       "77        140000.0\n",
       "92        120000.0\n",
       "100       228222.0\n",
       "109        89000.0\n",
       "            ...   \n",
       "785624    139216.0\n",
       "785641    150000.0\n",
       "785648    221875.0\n",
       "785682    157500.0\n",
       "785692    157500.0\n",
       "Name: salary_year_avg, Length: 22003, dtype: float64"
      ]
     },
     "execution_count": 7,
     "metadata": {},
     "output_type": "execute_result"
    }
   ],
   "source": [
    "df[pd.notna(df['salary_year_avg'])]['salary_year_avg']"
   ]
  },
  {
   "cell_type": "markdown",
   "id": "d5be58d7",
   "metadata": {},
   "source": [
    "Creating a function"
   ]
  },
  {
   "cell_type": "code",
   "execution_count": 8,
   "id": "9eb7a8c3",
   "metadata": {},
   "outputs": [],
   "source": [
    "def projected_salary(salary):\n",
    "    return salary * 1.03"
   ]
  },
  {
   "cell_type": "code",
   "execution_count": 11,
   "id": "ca62f98f",
   "metadata": {},
   "outputs": [
    {
     "data": {
      "text/html": [
       "<div>\n",
       "<style scoped>\n",
       "    .dataframe tbody tr th:only-of-type {\n",
       "        vertical-align: middle;\n",
       "    }\n",
       "\n",
       "    .dataframe tbody tr th {\n",
       "        vertical-align: top;\n",
       "    }\n",
       "\n",
       "    .dataframe thead th {\n",
       "        text-align: right;\n",
       "    }\n",
       "</style>\n",
       "<table border=\"1\" class=\"dataframe\">\n",
       "  <thead>\n",
       "    <tr style=\"text-align: right;\">\n",
       "      <th></th>\n",
       "      <th>salary_year_avg</th>\n",
       "      <th>salary_year_inflated</th>\n",
       "    </tr>\n",
       "  </thead>\n",
       "  <tbody>\n",
       "    <tr>\n",
       "      <th>28</th>\n",
       "      <td>109500.0</td>\n",
       "      <td>112785.00</td>\n",
       "    </tr>\n",
       "    <tr>\n",
       "      <th>77</th>\n",
       "      <td>140000.0</td>\n",
       "      <td>144200.00</td>\n",
       "    </tr>\n",
       "    <tr>\n",
       "      <th>92</th>\n",
       "      <td>120000.0</td>\n",
       "      <td>123600.00</td>\n",
       "    </tr>\n",
       "    <tr>\n",
       "      <th>100</th>\n",
       "      <td>228222.0</td>\n",
       "      <td>235068.66</td>\n",
       "    </tr>\n",
       "    <tr>\n",
       "      <th>109</th>\n",
       "      <td>89000.0</td>\n",
       "      <td>91670.00</td>\n",
       "    </tr>\n",
       "    <tr>\n",
       "      <th>...</th>\n",
       "      <td>...</td>\n",
       "      <td>...</td>\n",
       "    </tr>\n",
       "    <tr>\n",
       "      <th>785624</th>\n",
       "      <td>139216.0</td>\n",
       "      <td>143392.48</td>\n",
       "    </tr>\n",
       "    <tr>\n",
       "      <th>785641</th>\n",
       "      <td>150000.0</td>\n",
       "      <td>154500.00</td>\n",
       "    </tr>\n",
       "    <tr>\n",
       "      <th>785648</th>\n",
       "      <td>221875.0</td>\n",
       "      <td>228531.25</td>\n",
       "    </tr>\n",
       "    <tr>\n",
       "      <th>785682</th>\n",
       "      <td>157500.0</td>\n",
       "      <td>162225.00</td>\n",
       "    </tr>\n",
       "    <tr>\n",
       "      <th>785692</th>\n",
       "      <td>157500.0</td>\n",
       "      <td>162225.00</td>\n",
       "    </tr>\n",
       "  </tbody>\n",
       "</table>\n",
       "<p>22003 rows × 2 columns</p>\n",
       "</div>"
      ],
      "text/plain": [
       "        salary_year_avg  salary_year_inflated\n",
       "28             109500.0             112785.00\n",
       "77             140000.0             144200.00\n",
       "92             120000.0             123600.00\n",
       "100            228222.0             235068.66\n",
       "109             89000.0              91670.00\n",
       "...                 ...                   ...\n",
       "785624         139216.0             143392.48\n",
       "785641         150000.0             154500.00\n",
       "785648         221875.0             228531.25\n",
       "785682         157500.0             162225.00\n",
       "785692         157500.0             162225.00\n",
       "\n",
       "[22003 rows x 2 columns]"
      ]
     },
     "execution_count": 11,
     "metadata": {},
     "output_type": "execute_result"
    }
   ],
   "source": [
    "df_salary = df[pd.notna(df['salary_year_avg'])].copy()\n",
    "df_salary['salary_year_inflated'] = df_salary['salary_year_avg'].apply(projected_salary)\n",
    "df_salary[['salary_year_avg','salary_year_inflated']]"
   ]
  },
  {
   "cell_type": "markdown",
   "id": "0fc9e7c7",
   "metadata": {},
   "source": [
    "Using an anonymous function"
   ]
  },
  {
   "cell_type": "code",
   "execution_count": null,
   "id": "fe0dc447",
   "metadata": {},
   "outputs": [],
   "source": [
    "'''\n",
    "df_salary['salary_year_inflated'] = df_salary['salary_year_avg'].apply(lambda salary: salary * 1.03)\n",
    "'''"
   ]
  },
  {
   "cell_type": "markdown",
   "id": "0bedd018",
   "metadata": {},
   "source": [
    "**Applying a fucntion to the job skills**\n",
    "\n",
    "change from string to list"
   ]
  },
  {
   "cell_type": "code",
   "execution_count": 16,
   "id": "81a85d21",
   "metadata": {},
   "outputs": [
    {
     "data": {
      "text/plain": [
       "\"['r', 'python', 'sql', 'nosql', 'power bi', 'tableau']\""
      ]
     },
     "execution_count": 16,
     "metadata": {},
     "output_type": "execute_result"
    }
   ],
   "source": [
    "df['job_skills'][1]"
   ]
  },
  {
   "cell_type": "code",
   "execution_count": null,
   "id": "51ebd838",
   "metadata": {},
   "outputs": [
    {
     "data": {
      "text/plain": [
       "['python',\n",
       " 'sql',\n",
       " 'c#',\n",
       " 'azure',\n",
       " 'airflow',\n",
       " 'dax',\n",
       " 'docker',\n",
       " 'kubernetes',\n",
       " 'jenkins']"
      ]
     },
     "execution_count": 17,
     "metadata": {},
     "output_type": "execute_result"
    }
   ],
   "source": [
    "# Converting value to list\n",
    "import ast\n",
    "ast.literal_eval(df['job_skills'][2])"
   ]
  },
  {
   "cell_type": "code",
   "execution_count": null,
   "id": "e78086ac",
   "metadata": {},
   "outputs": [],
   "source": [
    "def clean_list(skill_list):\n",
    "    if pd.notna(skill_list): # checks if value is not non-value\n",
    "        return ast.literal_eval(skill_list)\n",
    "\n",
    "df['job_skills'] = df['job_skills'].apply(clean_list)\n",
    "\n",
    "'''  \n",
    "# As lambda\n",
    "df['job_skills'] = df['job_skills'].apply(lambda skill_list: ast.literal_eval(skill_list) if pd.notna(skill_list) else skill_list)\n",
    "'''"
   ]
  },
  {
   "cell_type": "code",
   "execution_count": 22,
   "id": "dc54e563",
   "metadata": {},
   "outputs": [
    {
     "name": "stdout",
     "output_type": "stream",
     "text": [
      "['python', 'sql', 'c#', 'azure', 'airflow', 'dax', 'docker', 'kubernetes', 'jenkins']\n"
     ]
    },
    {
     "data": {
      "text/plain": [
       "list"
      ]
     },
     "execution_count": 22,
     "metadata": {},
     "output_type": "execute_result"
    }
   ],
   "source": [
    "print(df['job_skills'][2])\n",
    "type(df['job_skills'][2])"
   ]
  },
  {
   "cell_type": "markdown",
   "id": "b5c72518",
   "metadata": {},
   "source": [
    "Multiple projections\n",
    "Senior roles assume 5%\n",
    "Other roles assume 3%"
   ]
  },
  {
   "cell_type": "code",
   "execution_count": 27,
   "id": "0b714617",
   "metadata": {},
   "outputs": [
    {
     "data": {
      "text/html": [
       "<div>\n",
       "<style scoped>\n",
       "    .dataframe tbody tr th:only-of-type {\n",
       "        vertical-align: middle;\n",
       "    }\n",
       "\n",
       "    .dataframe tbody tr th {\n",
       "        vertical-align: top;\n",
       "    }\n",
       "\n",
       "    .dataframe thead th {\n",
       "        text-align: right;\n",
       "    }\n",
       "</style>\n",
       "<table border=\"1\" class=\"dataframe\">\n",
       "  <thead>\n",
       "    <tr style=\"text-align: right;\">\n",
       "      <th></th>\n",
       "      <th>job_title_short</th>\n",
       "      <th>salary_year_avg</th>\n",
       "      <th>salary_year_inflated</th>\n",
       "    </tr>\n",
       "  </thead>\n",
       "  <tbody>\n",
       "    <tr>\n",
       "      <th>468158</th>\n",
       "      <td>Data Engineer</td>\n",
       "      <td>133000.0</td>\n",
       "      <td>136990.000</td>\n",
       "    </tr>\n",
       "    <tr>\n",
       "      <th>434060</th>\n",
       "      <td>Data Scientist</td>\n",
       "      <td>190000.0</td>\n",
       "      <td>195700.000</td>\n",
       "    </tr>\n",
       "    <tr>\n",
       "      <th>300090</th>\n",
       "      <td>Data Engineer</td>\n",
       "      <td>127500.0</td>\n",
       "      <td>131325.000</td>\n",
       "    </tr>\n",
       "    <tr>\n",
       "      <th>483160</th>\n",
       "      <td>Data Analyst</td>\n",
       "      <td>65000.0</td>\n",
       "      <td>66950.000</td>\n",
       "    </tr>\n",
       "    <tr>\n",
       "      <th>724101</th>\n",
       "      <td>Software Engineer</td>\n",
       "      <td>205000.0</td>\n",
       "      <td>211150.000</td>\n",
       "    </tr>\n",
       "    <tr>\n",
       "      <th>520737</th>\n",
       "      <td>Data Analyst</td>\n",
       "      <td>175000.0</td>\n",
       "      <td>180250.000</td>\n",
       "    </tr>\n",
       "    <tr>\n",
       "      <th>477846</th>\n",
       "      <td>Data Scientist</td>\n",
       "      <td>69962.5</td>\n",
       "      <td>72061.375</td>\n",
       "    </tr>\n",
       "    <tr>\n",
       "      <th>386611</th>\n",
       "      <td>Data Engineer</td>\n",
       "      <td>101737.0</td>\n",
       "      <td>104789.110</td>\n",
       "    </tr>\n",
       "    <tr>\n",
       "      <th>726387</th>\n",
       "      <td>Data Analyst</td>\n",
       "      <td>130000.0</td>\n",
       "      <td>133900.000</td>\n",
       "    </tr>\n",
       "    <tr>\n",
       "      <th>335511</th>\n",
       "      <td>Senior Data Analyst</td>\n",
       "      <td>95000.0</td>\n",
       "      <td>99750.000</td>\n",
       "    </tr>\n",
       "    <tr>\n",
       "      <th>480960</th>\n",
       "      <td>Data Analyst</td>\n",
       "      <td>70000.0</td>\n",
       "      <td>72100.000</td>\n",
       "    </tr>\n",
       "    <tr>\n",
       "      <th>229088</th>\n",
       "      <td>Data Engineer</td>\n",
       "      <td>90000.0</td>\n",
       "      <td>92700.000</td>\n",
       "    </tr>\n",
       "    <tr>\n",
       "      <th>559068</th>\n",
       "      <td>Data Analyst</td>\n",
       "      <td>112050.0</td>\n",
       "      <td>115411.500</td>\n",
       "    </tr>\n",
       "    <tr>\n",
       "      <th>734530</th>\n",
       "      <td>Senior Data Scientist</td>\n",
       "      <td>157500.0</td>\n",
       "      <td>165375.000</td>\n",
       "    </tr>\n",
       "    <tr>\n",
       "      <th>619949</th>\n",
       "      <td>Data Scientist</td>\n",
       "      <td>140062.5</td>\n",
       "      <td>144264.375</td>\n",
       "    </tr>\n",
       "    <tr>\n",
       "      <th>14481</th>\n",
       "      <td>Senior Data Analyst</td>\n",
       "      <td>149000.0</td>\n",
       "      <td>156450.000</td>\n",
       "    </tr>\n",
       "    <tr>\n",
       "      <th>217288</th>\n",
       "      <td>Data Analyst</td>\n",
       "      <td>72500.0</td>\n",
       "      <td>74675.000</td>\n",
       "    </tr>\n",
       "    <tr>\n",
       "      <th>664250</th>\n",
       "      <td>Data Scientist</td>\n",
       "      <td>146500.0</td>\n",
       "      <td>150895.000</td>\n",
       "    </tr>\n",
       "    <tr>\n",
       "      <th>728111</th>\n",
       "      <td>Data Analyst</td>\n",
       "      <td>122500.0</td>\n",
       "      <td>126175.000</td>\n",
       "    </tr>\n",
       "    <tr>\n",
       "      <th>758545</th>\n",
       "      <td>Software Engineer</td>\n",
       "      <td>156000.0</td>\n",
       "      <td>160680.000</td>\n",
       "    </tr>\n",
       "  </tbody>\n",
       "</table>\n",
       "</div>"
      ],
      "text/plain": [
       "              job_title_short  salary_year_avg  salary_year_inflated\n",
       "468158          Data Engineer         133000.0            136990.000\n",
       "434060         Data Scientist         190000.0            195700.000\n",
       "300090          Data Engineer         127500.0            131325.000\n",
       "483160           Data Analyst          65000.0             66950.000\n",
       "724101      Software Engineer         205000.0            211150.000\n",
       "520737           Data Analyst         175000.0            180250.000\n",
       "477846         Data Scientist          69962.5             72061.375\n",
       "386611          Data Engineer         101737.0            104789.110\n",
       "726387           Data Analyst         130000.0            133900.000\n",
       "335511    Senior Data Analyst          95000.0             99750.000\n",
       "480960           Data Analyst          70000.0             72100.000\n",
       "229088          Data Engineer          90000.0             92700.000\n",
       "559068           Data Analyst         112050.0            115411.500\n",
       "734530  Senior Data Scientist         157500.0            165375.000\n",
       "619949         Data Scientist         140062.5            144264.375\n",
       "14481     Senior Data Analyst         149000.0            156450.000\n",
       "217288           Data Analyst          72500.0             74675.000\n",
       "664250         Data Scientist         146500.0            150895.000\n",
       "728111           Data Analyst         122500.0            126175.000\n",
       "758545      Software Engineer         156000.0            160680.000"
      ]
     },
     "execution_count": 27,
     "metadata": {},
     "output_type": "execute_result"
    }
   ],
   "source": [
    "def projected_salary(row):\n",
    "    if \"Senior\" in row['job_title_short']:\n",
    "        return 1.05 * row['salary_year_avg']\n",
    "    else:\n",
    "        return 1.03 * row['salary_year_avg']\n",
    "\n",
    "df_salary['salary_year_inflated'] = df_salary.apply(projected_salary, axis=1)\n",
    "\n",
    "df_salary[['job_title_short', 'salary_year_avg', 'salary_year_inflated']].sample(20)"
   ]
  },
  {
   "cell_type": "code",
   "execution_count": null,
   "id": "2eba7b38",
   "metadata": {},
   "outputs": [],
   "source": []
  }
 ],
 "metadata": {
  "kernelspec": {
   "display_name": "python_data",
   "language": "python",
   "name": "python3"
  },
  "language_info": {
   "codemirror_mode": {
    "name": "ipython",
    "version": 3
   },
   "file_extension": ".py",
   "mimetype": "text/x-python",
   "name": "python",
   "nbconvert_exporter": "python",
   "pygments_lexer": "ipython3",
   "version": "3.11.11"
  }
 },
 "nbformat": 4,
 "nbformat_minor": 5
}
